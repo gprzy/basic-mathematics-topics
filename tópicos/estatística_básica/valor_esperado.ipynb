{
 "cells": [
  {
   "cell_type": "markdown",
   "metadata": {},
   "source": [
    "# Valor Esperado"
   ]
  },
  {
   "cell_type": "code",
   "execution_count": 1,
   "metadata": {},
   "outputs": [],
   "source": [
    "import numpy as np\n",
    "import random"
   ]
  },
  {
   "cell_type": "markdown",
   "metadata": {},
   "source": [
    "## $E[X]$ do lançamento de um dado"
   ]
  },
  {
   "cell_type": "code",
   "execution_count": 8,
   "metadata": {},
   "outputs": [
    {
     "data": {
      "text/plain": [
       "3.5"
      ]
     },
     "execution_count": 8,
     "metadata": {},
     "output_type": "execute_result"
    }
   ],
   "source": [
    "# somatório 1*(1/6) + 2*(1/6) ... 6*(1/6)\n",
    "X = list(range(1,7))\n",
    "sum([x*(1/6) for x in X])"
   ]
  },
  {
   "cell_type": "code",
   "execution_count": 6,
   "metadata": {},
   "outputs": [
    {
     "name": "stdout",
     "output_type": "stream",
     "text": [
      "3.5\n",
      "3.5\n"
     ]
    }
   ],
   "source": [
    "# soma colocando (1/6) em evidência\n",
    "print(sum(list(range(1,7)))*(1/6))\n",
    "print(21/6)"
   ]
  },
  {
   "cell_type": "code",
   "execution_count": 52,
   "metadata": {},
   "outputs": [
    {
     "name": "stdout",
     "output_type": "stream",
     "text": [
      "Valor médio de 1000 lançamentos = 3.627\n"
     ]
    }
   ],
   "source": [
    "mu = 0   # média\n",
    "n = 1000 # nº de lançamentos\n",
    "\n",
    "for i in range(n):\n",
    "    mu += random.randint(1,6)\n",
    "\n",
    "mu /= n\n",
    "print('Valor médio de', n, 'lançamentos =', mu)"
   ]
  },
  {
   "cell_type": "code",
   "execution_count": 13,
   "metadata": {},
   "outputs": [
    {
     "name": "stdout",
     "output_type": "stream",
     "text": [
      "Valor médio de 100 lançamentos = 3.27\n",
      "Valor médio de 200 lançamentos = 3.44\n",
      "Valor médio de 300 lançamentos = 3.433333333333333\n",
      "Valor médio de 400 lançamentos = 3.455\n",
      "Valor médio de 500 lançamentos = 3.468\n",
      "Valor médio de 600 lançamentos = 3.41\n",
      "Valor médio de 700 lançamentos = 3.4485714285714284\n",
      "Valor médio de 800 lançamentos = 3.38875\n",
      "Valor médio de 900 lançamentos = 3.468888888888889\n",
      "Valor médio de 1000 lançamentos = 3.526\n"
     ]
    }
   ],
   "source": [
    "for n in range(100,1000+1, 100):\n",
    "    mu = 0\n",
    "    for i in range(n):\n",
    "        mu += random.randint(1,6)\n",
    "    mu /= n\n",
    "    print('Valor médio de', n, 'lançamentos =', mu)"
   ]
  },
  {
   "cell_type": "markdown",
   "metadata": {},
   "source": [
    "## Exemplo do lucro esperado das peças"
   ]
  },
  {
   "cell_type": "code",
   "execution_count": 61,
   "metadata": {},
   "outputs": [
    {
     "name": "stdout",
     "output_type": "stream",
     "text": [
      "Lucro médio por peça (valor esperado) = R$ 4.612\n"
     ]
    }
   ],
   "source": [
    "total_pecas = 1000\n",
    "lucro_liquido = 0\n",
    "prob_perfeita = 0.9\n",
    "prob_defeituosa = 0.1\n",
    "lucro_peca = 5\n",
    "perda_peca = -1\n",
    "\n",
    "for i in range(total_pecas):\n",
    "    # peça aleatória produzida\n",
    "    prob_peca = np.random.uniform()\n",
    "\n",
    "    if prob_peca <= prob_perfeita:\n",
    "        lucro_liquido += lucro_peca\n",
    "    else:\n",
    "        lucro_liquido -= perda_peca\n",
    "        \n",
    "valor_esperado = lucro_liquido/total_pecas\n",
    "print('Lucro médio por peça (valor esperado) = R$', valor_esperado)"
   ]
  },
  {
   "cell_type": "markdown",
   "metadata": {},
   "source": [
    "## Exemplo do valor esperado de um caça-níquel"
   ]
  },
  {
   "cell_type": "code",
   "execution_count": 16,
   "metadata": {},
   "outputs": [
    {
     "name": "stdout",
     "output_type": "stream",
     "text": [
      "Lucro médio por jogada (valor esperado) = R$ -62.48\n"
     ]
    }
   ],
   "source": [
    "frutas = ['maçã', 'maçã', 'maçã', 'maçã',\n",
    "          'banana', 'banana', 'banana'\n",
    "          'pera', 'pera',\n",
    "          'laranja']\n",
    "\n",
    "lucro_liquido = 0\n",
    "custo_jogada = 80\n",
    "n_jogadas = 1000\n",
    "\n",
    "for i in range(n_jogadas):\n",
    "    disco_1 = random.choice(frutas)\n",
    "    disco_2 = random.choice(frutas)\n",
    "    lucro_liquido -= custo_jogada\n",
    "\n",
    "    if disco_1 == disco_2:\n",
    "        if disco_1 == 'maçã':\n",
    "            lucro_liquido += 40\n",
    "        elif disco_1 == 'banana':\n",
    "            lucro_liquido += 80\n",
    "        elif disco_1 == 'pera':\n",
    "            lucro_liquido += 140\n",
    "        elif disco_1 == 'laranja':\n",
    "            lucro_liquido += 180\n",
    "\n",
    "valor_esperado = lucro_liquido / n_jogadas\n",
    "print('Lucro médio por jogada (valor esperado) = R$', valor_esperado)"
   ]
  },
  {
   "cell_type": "code",
   "execution_count": null,
   "metadata": {},
   "outputs": [],
   "source": []
  }
 ],
 "metadata": {
  "kernelspec": {
   "display_name": "Python 3.8.9 64-bit",
   "language": "python",
   "name": "python3"
  },
  "language_info": {
   "codemirror_mode": {
    "name": "ipython",
    "version": 3
   },
   "file_extension": ".py",
   "mimetype": "text/x-python",
   "name": "python",
   "nbconvert_exporter": "python",
   "pygments_lexer": "ipython3",
   "version": "3.8.9"
  },
  "orig_nbformat": 4,
  "vscode": {
   "interpreter": {
    "hash": "334a5e8992ae7b59318cb6977b4fd8b87a3d00ca77b4b939429784f885d1ecf1"
   }
  }
 },
 "nbformat": 4,
 "nbformat_minor": 2
}
